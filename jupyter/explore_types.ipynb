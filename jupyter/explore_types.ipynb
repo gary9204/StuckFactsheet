{
 "cells": [
  {
   "cell_type": "markdown",
   "metadata": {},
   "source": [
    "# Explore: Typing Module\n",
    "This notebook contains code snippets to better understand type hints using the ``typing`` module. "
   ]
  },
  {
   "cell_type": "markdown",
   "metadata": {},
   "source": [
    "## Union of Generic and Concrete\n",
    "Can a ``Union`` contain both a type variable and a concrete type?"
   ]
  },
  {
   "cell_type": "code",
   "execution_count": 1,
   "metadata": {},
   "outputs": [],
   "source": [
    "import typing"
   ]
  },
  {
   "cell_type": "code",
   "execution_count": 2,
   "metadata": {},
   "outputs": [],
   "source": [
    "import enum"
   ]
  },
  {
   "cell_type": "code",
   "execution_count": 3,
   "metadata": {},
   "outputs": [],
   "source": [
    "class State(enum.Enum):\n",
    "    UNCHECKED = enum.auto()\n",
    "    UNDEFINED = enum.auto()\n",
    "    CHECKED = enum.auto()"
   ]
  },
  {
   "cell_type": "code",
   "execution_count": 4,
   "metadata": {},
   "outputs": [],
   "source": [
    "T = typing.TypeVar('T')"
   ]
  },
  {
   "cell_type": "code",
   "execution_count": 5,
   "metadata": {},
   "outputs": [],
   "source": [
    "Value = typing.Union[State, T]"
   ]
  },
  {
   "cell_type": "code",
   "execution_count": 6,
   "metadata": {},
   "outputs": [
    {
     "data": {
      "text/plain": [
       "typing.Union[__main__.State, ~T]"
      ]
     },
     "execution_count": 6,
     "metadata": {},
     "output_type": "execute_result"
    }
   ],
   "source": [
    "Value"
   ]
  },
  {
   "cell_type": "markdown",
   "metadata": {},
   "source": [
    "**Conclusion:** The preliminary answer is yes, a `Union` may contain generic and concrete types. In a separate check, ``Mypy`` did not object."
   ]
  },
  {
   "cell_type": "markdown",
   "metadata": {},
   "source": [
    "**Open**: use in non-trivial code."
   ]
  },
  {
   "cell_type": "markdown",
   "metadata": {},
   "source": [
    "## Inheritance from Generic Type\n",
    "Built-in function `isinstance(object, class)` succeeds when `class` is generic but `isinstance(object, class[type])` raises a `TypeError`. This section demonstrates the behavior and looks at properties of classes derived from a generic class."
   ]
  },
  {
   "cell_type": "code",
   "execution_count": 7,
   "metadata": {},
   "outputs": [],
   "source": [
    "ValueAny = typing.TypeVar('ValueAny')\n",
    "class Base(typing.Generic[ValueAny]):\n",
    "    \"\"\"Generic base class.\"\"\"\n",
    "    pass"
   ]
  },
  {
   "cell_type": "markdown",
   "metadata": {},
   "source": [
    "Function ``isinstance`` can check an object against a generic class"
   ]
  },
  {
   "cell_type": "code",
   "execution_count": 8,
   "metadata": {},
   "outputs": [
    {
     "data": {
      "text/plain": [
       "True"
      ]
     },
     "execution_count": 8,
     "metadata": {},
     "output_type": "execute_result"
    }
   ],
   "source": [
    "item_int = Base[int]()\n",
    "item_int\n",
    "isinstance(item_int, Base)"
   ]
  },
  {
   "cell_type": "markdown",
   "metadata": {},
   "source": [
    "Function ``isinstance`` raises `TypeError` after generic type is fixed (that is, after the generic is subscripted)."
   ]
  },
  {
   "cell_type": "code",
   "execution_count": 9,
   "metadata": {},
   "outputs": [
    {
     "name": "stdout",
     "output_type": "stream",
     "text": [
      "Subscripted generics cannot be used with class and instance checks\n"
     ]
    }
   ],
   "source": [
    "try:\n",
    "    isinstance(item_int, Base[int])\n",
    "except TypeError as err:\n",
    "    print(err)"
   ]
  },
  {
   "cell_type": "markdown",
   "metadata": {},
   "source": [
    "A wrapper class gives ``isinstance`` a concrete target."
   ]
  },
  {
   "cell_type": "code",
   "execution_count": 10,
   "metadata": {},
   "outputs": [],
   "source": [
    "class ChildInt(Base[int]):\n",
    "    \"\"\"Concrete child class.\"\"\"\n",
    "    pass"
   ]
  },
  {
   "cell_type": "code",
   "execution_count": 11,
   "metadata": {},
   "outputs": [
    {
     "name": "stdout",
     "output_type": "stream",
     "text": [
      "Subscripted generics cannot be used with class and instance checks\n"
     ]
    }
   ],
   "source": [
    "try:\n",
    "    issubclass(ChildInt, Base[int])\n",
    "except TypeError as err:\n",
    "    print(err)"
   ]
  },
  {
   "cell_type": "code",
   "execution_count": 12,
   "metadata": {},
   "outputs": [
    {
     "data": {
      "text/plain": [
       "True"
      ]
     },
     "execution_count": 12,
     "metadata": {},
     "output_type": "execute_result"
    }
   ],
   "source": [
    "item_child_int = ChildInt()\n",
    "isinstance(item_child_int, ChildInt)"
   ]
  },
  {
   "cell_type": "markdown",
   "metadata": {},
   "source": [
    "A look at type properties provides insight into the behavior. First, type information for `item_child_int` includes both `ChildInt` and `Base[int]`."
   ]
  },
  {
   "cell_type": "code",
   "execution_count": 13,
   "metadata": {},
   "outputs": [
    {
     "name": "stdout",
     "output_type": "stream",
     "text": [
      "type(item_child_int):          <class '__main__.ChildInt'>\n",
      "item_child_int.__class__:      <class '__main__.ChildInt'>\n",
      "item_child_int.__orig_bases__: (__main__.Base[int],)\n"
     ]
    }
   ],
   "source": [
    "print('type(item_child_int):          {}'.format(type(item_child_int)))\n",
    "print('item_child_int.__class__:      {}'.format(item_child_int.__class__))\n",
    "print('item_child_int.__orig_bases__: {}'.format(item_child_int.__orig_bases__))"
   ]
  },
  {
   "cell_type": "markdown",
   "metadata": {},
   "source": []
  },
  {
   "cell_type": "code",
   "execution_count": 14,
   "metadata": {},
   "outputs": [
    {
     "data": {
      "text/plain": [
       "<__main__.Base at 0x7f5d484b9cf8>"
      ]
     },
     "execution_count": 14,
     "metadata": {},
     "output_type": "execute_result"
    }
   ],
   "source": [
    "base_int = Base[int]()\n",
    "base_int"
   ]
  },
  {
   "cell_type": "markdown",
   "metadata": {},
   "source": [
    "The type information for `ChildInt` includes both `Base[int]` and `Base` but in different ways (`__orig_bases__` and `__bases__`, respectively). The MRO of `ChildInt` does not include `Base[int]`."
   ]
  },
  {
   "cell_type": "code",
   "execution_count": 15,
   "metadata": {},
   "outputs": [
    {
     "name": "stdout",
     "output_type": "stream",
     "text": [
      "type(ChildInt):          <class 'type'>\n",
      "ChildInt.__class__:      <class 'type'>\n",
      "ChildInt.__orig_bases__: (__main__.Base[int],)\n",
      "ChildInt.__bases__:      (<class '__main__.Base'>,)\n",
      "ChildInt.__mro__:\n",
      "\t<class '__main__.ChildInt'>\n",
      "\t<class '__main__.Base'>\n",
      "\t<class 'typing.Generic'>\n",
      "\t<class 'object'>\n"
     ]
    }
   ],
   "source": [
    "print('type(ChildInt):          {}'.format(type(ChildInt)))\n",
    "print('ChildInt.__class__:      {}'.format(ChildInt.__class__))\n",
    "print('ChildInt.__orig_bases__: {}'.format(ChildInt.__orig_bases__))\n",
    "print('ChildInt.__bases__:      {}'.format(ChildInt.__bases__))\n",
    "print('ChildInt.__mro__:')\n",
    "for c in ChildInt.__mro__:\n",
    "    print('\\t{}'.format(c))"
   ]
  },
  {
   "cell_type": "markdown",
   "metadata": {},
   "source": [
    "`Base[int]` is a `_GenericAlias` rather than a type. The `__args__` attribute shows that type `int` fixes the generic type.\n",
    "\n",
    "(See also PEP 585 for changes in Python 3.9.)"
   ]
  },
  {
   "cell_type": "code",
   "execution_count": 16,
   "metadata": {},
   "outputs": [
    {
     "name": "stdout",
     "output_type": "stream",
     "text": [
      "type(Base[int]):           <class 'typing._GenericAlias'>\n",
      "Base[int].__class__:       <class 'typing._GenericAlias'>\n",
      "Base[int].__args__:        (<class 'int'>,)\n",
      "Base[int].__origin__:      <class '__main__.Base'>\n"
     ]
    }
   ],
   "source": [
    "print('type(Base[int]):           {}'.format(type(Base[int])))\n",
    "print('Base[int].__class__:       {}'.format(Base[int].__class__))\n",
    "print('Base[int].__args__:        {}'.format(Base[int].__args__))\n",
    "print('Base[int].__origin__:      {}'.format(Base[int].__origin__))"
   ]
  },
  {
   "cell_type": "markdown",
   "metadata": {},
   "source": [
    "Object `base_int` directly derived from `Base[int]` refers to `Base` and its generic parbaseent."
   ]
  },
  {
   "cell_type": "code",
   "execution_count": 17,
   "metadata": {},
   "outputs": [
    {
     "name": "stdout",
     "output_type": "stream",
     "text": [
      "type(base_int):          <class '__main__.Base'>\n",
      "base_int.__class__:      <class '__main__.Base'>\n",
      "base_int.__orig_bases__: (typing.Generic[~ValueAny],)\n"
     ]
    }
   ],
   "source": [
    "print('type(base_int):          {}'.format(type(base_int)))\n",
    "print('base_int.__class__:      {}'.format(base_int.__class__))\n",
    "print('base_int.__orig_bases__: {}'.format(base_int.__orig_bases__))"
   ]
  },
  {
   "cell_type": "markdown",
   "metadata": {},
   "source": [
    "`Base` is a type with Generic base."
   ]
  },
  {
   "cell_type": "code",
   "execution_count": 18,
   "metadata": {},
   "outputs": [
    {
     "name": "stdout",
     "output_type": "stream",
     "text": [
      "type(Base):          <class 'type'>\n",
      "Base.__class__:      <class 'type'>\n",
      "Base.__orig_bases__: (typing.Generic[~ValueAny],)\n",
      "Base.__bases__:      (<class 'typing.Generic'>,)\n",
      "Base.__mro__:\n",
      "\t<class '__main__.Base'>\n",
      "\t<class 'typing.Generic'>\n",
      "\t<class 'object'>\n",
      "Base.__subclasses(): [<class '__main__.ChildInt'>]\n"
     ]
    }
   ],
   "source": [
    "print('type(Base):          {}'.format(type(Base)))\n",
    "print('Base.__class__:      {}'.format(Base.__class__))\n",
    "print('Base.__orig_bases__: {}'.format(Base.__orig_bases__))\n",
    "print('Base.__bases__:      {}'.format(Base.__bases__))\n",
    "print('Base.__mro__:')\n",
    "for c in Base.__mro__:\n",
    "    print('\\t{}'.format(c))\n",
    "print('Base.__subclasses(): {}'.format(Base.__subclasses__()))"
   ]
  },
  {
   "cell_type": "markdown",
   "metadata": {},
   "source": [
    "**Conclusion:** A subscripted generic class is an alias not a class. A class derived from a subscripted generic class is a class"
   ]
  }
 ],
 "metadata": {
  "kernelspec": {
   "display_name": "Python 3",
   "language": "python",
   "name": "python3"
  },
  "language_info": {
   "codemirror_mode": {
    "name": "ipython",
    "version": 3
   },
   "file_extension": ".py",
   "mimetype": "text/x-python",
   "name": "python",
   "nbconvert_exporter": "python",
   "pygments_lexer": "ipython3",
   "version": "3.7.3"
  }
 },
 "nbformat": 4,
 "nbformat_minor": 4
}
